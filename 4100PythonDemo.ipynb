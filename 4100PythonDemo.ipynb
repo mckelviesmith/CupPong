{
  "nbformat": 4,
  "nbformat_minor": 0,
  "metadata": {
    "colab": {
      "name": "4100PythonDemo.ipynb",
      "provenance": [],
      "collapsed_sections": [],
      "include_colab_link": true
    },
    "kernelspec": {
      "name": "python3",
      "display_name": "Python 3"
    }
  },
  "cells": [
    {
      "cell_type": "markdown",
      "metadata": {
        "id": "view-in-github",
        "colab_type": "text"
      },
      "source": [
        "<a href=\"https://colab.research.google.com/github/mckelviesmith/CupPong/blob/main/4100PythonDemo.ipynb\" target=\"_parent\"><img src=\"https://colab.research.google.com/assets/colab-badge.svg\" alt=\"Open In Colab\"/></a>"
      ]
    },
    {
      "cell_type": "markdown",
      "metadata": {
        "id": "3f8-EXchK87Q"
      },
      "source": [
        "# Basics:  types, syntax, essential data structures, loops\n",
        "\n",
        "This is a quick tour of Python and the Jupyter notebook environment.  It's meant to help students who aren't comfortable in Python yet, but who want a gentler introduction than HW1, which will also cover the A* algorithm.\n",
        "\n",
        "To run a piece of code in this environment, you can click the arrow to the left of the code snippet.  Here are some expressions in Python to evaluate."
      ]
    },
    {
      "cell_type": "code",
      "metadata": {
        "id": "ShuLg3csK6vK"
      },
      "source": [
        "2+2"
      ],
      "execution_count": null,
      "outputs": []
    },
    {
      "cell_type": "code",
      "metadata": {
        "id": "Ywlh3T1BLrSo"
      },
      "source": [
        "True and False"
      ],
      "execution_count": null,
      "outputs": []
    },
    {
      "cell_type": "code",
      "metadata": {
        "id": "wfZiH5q3Lr2i"
      },
      "source": [
        "True or False"
      ],
      "execution_count": null,
      "outputs": []
    },
    {
      "cell_type": "code",
      "metadata": {
        "id": "vD0nCS1bSnpV"
      },
      "source": [
        "not True"
      ],
      "execution_count": null,
      "outputs": []
    },
    {
      "cell_type": "code",
      "metadata": {
        "id": "ZRH0EqU5Lsid"
      },
      "source": [
        "5 / 3"
      ],
      "execution_count": null,
      "outputs": []
    },
    {
      "cell_type": "code",
      "metadata": {
        "id": "sPgZnTT3L8Cr"
      },
      "source": [
        "5 // 3"
      ],
      "execution_count": null,
      "outputs": []
    },
    {
      "cell_type": "markdown",
      "metadata": {
        "id": "dGag6Xz5MAyl"
      },
      "source": [
        "As you can see, you don't need to include semicolons at the end of expressions in Python, boolean operators are spelled out, and floating point arithmetic is assumed unless you specify otherwise.\n",
        "\n",
        "It's often useful to have a concept of infinity and negative infinity, values that will always \"win\" or always \"lose\" in a comparison.  Here's how to get that.\n",
        "\n"
      ]
    },
    {
      "cell_type": "code",
      "metadata": {
        "id": "91V5Udc1RpDg"
      },
      "source": [
        "real_big = float(\"inf\")\n",
        "print(real_big > 10000000000000000)\n",
        "real_small = float(\"-inf\")\n",
        "print(real_small < -100000000000000)"
      ],
      "execution_count": null,
      "outputs": []
    },
    {
      "cell_type": "markdown",
      "metadata": {
        "id": "O4_hLgJHNrhl"
      },
      "source": [
        "String concatenation works like it does in Java, with +. String equality works the way you'd want it to intuitively: it checks the characters. In fact, assignment copies the string, so this doesn't have the problems of passing by reference that you might encounter in other languages (or in Python for lists and other data structures)."
      ]
    },
    {
      "cell_type": "code",
      "metadata": {
        "id": "KiPhlMVXNqW7"
      },
      "source": [
        "a = \"foo\"\n",
        "b = a # copies\n",
        "a += \"bar\" # doesn't modify b\n",
        "print(a)\n",
        "print(b)\n",
        "c = \"foobar\"\n",
        "print(c == a) # == really does compare characters\n",
        "print(\"a is {}, b is {}, c is {}\".format(a,b,c)) # format method can be smoother than concatenation"
      ],
      "execution_count": null,
      "outputs": []
    },
    {
      "cell_type": "markdown",
      "metadata": {
        "id": "DtRihWseRstF"
      },
      "source": [
        "\n",
        "Defining functions should be familiar to you.  There's no need to specify type, and indentation determines where the function begins and ends; there are a lot fewer curly braces than in other languages."
      ]
    },
    {
      "cell_type": "code",
      "metadata": {
        "id": "IFzt2G8vMf-g"
      },
      "source": [
        "def addThreeThings(a, b, c):\n",
        "  return a + b + c\n",
        "\n",
        "addThreeThings(2,4,5)"
      ],
      "execution_count": null,
      "outputs": []
    },
    {
      "cell_type": "markdown",
      "metadata": {
        "id": "1oOiHhv4MtQD"
      },
      "source": [
        "Sometimes lack of strong typing leaves your function vulnerable to unintended behavior or runtime errors.  These may not cause everything to halt unless there's a mismatch in type."
      ]
    },
    {
      "cell_type": "code",
      "metadata": {
        "id": "aR2eI7WCMy1N"
      },
      "source": [
        "addThreeThings(\"foo\", \"bar\", \"baz\")"
      ],
      "execution_count": null,
      "outputs": []
    },
    {
      "cell_type": "code",
      "metadata": {
        "id": "HAeENYkGM4P0"
      },
      "source": [
        "addThreeThings(\"foo\",\"bar\",2)"
      ],
      "execution_count": null,
      "outputs": []
    },
    {
      "cell_type": "markdown",
      "metadata": {
        "id": "RJOC2YIv5VgZ"
      },
      "source": [
        "Notice how the error message in the second case shows the exact line of the function that was problematic, as well as the exact line where that function was called, and so on.  Sometimes these errors dig deep into functions you didn't write, so look in the stack of calls for the code you did write.  You probably passed something bad to those other functions.\n",
        "\n",
        "A common issue is wanting to just automatically concatenate a number with a string, which you can do in Java seamlessly.  Here, it needs a cast to string."
      ]
    },
    {
      "cell_type": "code",
      "metadata": {
        "id": "ZQ05ttEdNEDs"
      },
      "source": [
        "addThreeThings(\"foo\",\"bar\",str(2))"
      ],
      "execution_count": null,
      "outputs": []
    },
    {
      "cell_type": "markdown",
      "metadata": {
        "id": "RpEgwBb1NtSn"
      },
      "source": [
        "Two important data structures are used over and over in Python:  the list, and the dictionary.  These have their own shorthand syntax, unlike Java's ArrayList and HashMap, the two closest equivalents."
      ]
    },
    {
      "cell_type": "code",
      "metadata": {
        "id": "NjT0elzuODIJ"
      },
      "source": [
        "myList = [1,2,3,4]\n",
        "myList.append(5)\n",
        "print(myList)"
      ],
      "execution_count": null,
      "outputs": []
    },
    {
      "cell_type": "code",
      "metadata": {
        "id": "Z7HckZ16OQfG"
      },
      "source": [
        "myDict = {\n",
        "    \"foo\" : 2,\n",
        "    \"bar\" : 5\n",
        "}\n",
        "print(myDict[\"bar\"])"
      ],
      "execution_count": null,
      "outputs": []
    },
    {
      "cell_type": "markdown",
      "metadata": {
        "id": "Pd_LGISsOhgl"
      },
      "source": [
        "Both data structures allow iteration with a foreach loop."
      ]
    },
    {
      "cell_type": "code",
      "metadata": {
        "id": "BerPKXZdOkmf"
      },
      "source": [
        "for i in myList:\n",
        "  print(i*10)"
      ],
      "execution_count": null,
      "outputs": []
    },
    {
      "cell_type": "code",
      "metadata": {
        "id": "kpXtiReROyYf"
      },
      "source": [
        "for key in myDict:\n",
        "  print(\"The value of {} is {}\".format(key, myDict[key]))"
      ],
      "execution_count": null,
      "outputs": []
    },
    {
      "cell_type": "markdown",
      "metadata": {
        "id": "uQH3fzNTPXiK"
      },
      "source": [
        "If you just want to do something a particular number of times, instead of iterating over a data structure, you can do the following:"
      ]
    },
    {
      "cell_type": "code",
      "metadata": {
        "id": "54yOHJqJPWO5"
      },
      "source": [
        "for i in range(4):  # 4 is the number of times we will execute\n",
        "  print(\"Iteration number {}\".format(i))"
      ],
      "execution_count": null,
      "outputs": []
    },
    {
      "cell_type": "markdown",
      "metadata": {
        "id": "taLSBhDB6HoN"
      },
      "source": [
        "# Exercise 1\n",
        "\n",
        "Try writing a Python function that takes a list of numbers and prints all possible products of two numbers within the list.  For example, [1, 2, 3]\n",
        "would print\n",
        "\n",
        "```\n",
        "1\n",
        "2\n",
        "3\n",
        "2\n",
        "4\n",
        "6\n",
        "3\n",
        "6\n",
        "9\n",
        "```\n",
        "\n",
        "\n",
        "\n",
        "You can assume the input is good (list, at least one element, all ints, etc)"
      ]
    },
    {
      "cell_type": "code",
      "metadata": {
        "id": "gWAraIGn6Dvz"
      },
      "source": [
        "# TODO"
      ],
      "execution_count": null,
      "outputs": []
    },
    {
      "cell_type": "markdown",
      "metadata": {
        "id": "L_CMkxFG_fu8"
      },
      "source": [
        "# Tuples and multiple return values\n",
        "\n",
        "A data structure that may seem similar to a list is a tuple, which uses parens instead of square brackets.  While a list is conceptually combining similar things and can be lengthened, a tuple is a lightweight way to combine multiple pieces of data, maybe of different types, and is more like a \"struct\" in C or a method-less object in Java.  A tuple with just two elements is a \"pair.\""
      ]
    },
    {
      "cell_type": "code",
      "metadata": {
        "id": "jR5EiaI9ALCb"
      },
      "source": [
        "letter_counts = [(\"hi\", 2), (\"how\", 3), (\"are\", 3), (\"you\", 3)]"
      ],
      "execution_count": null,
      "outputs": []
    },
    {
      "cell_type": "markdown",
      "metadata": {
        "id": "3Kq2khcRAaoS"
      },
      "source": [
        "You can assign the different parts of a tuple to different comma-separated variables."
      ]
    },
    {
      "cell_type": "code",
      "metadata": {
        "id": "GDO5MlT6AZbI"
      },
      "source": [
        "word, count = letter_counts[0]\n",
        "print(word)\n",
        "print(count)"
      ],
      "execution_count": null,
      "outputs": []
    },
    {
      "cell_type": "markdown",
      "metadata": {
        "id": "YoxYejNkA_IN"
      },
      "source": [
        "This can be useful to get a function to effectively return multiple values.  In fact, comma-separated values in the return statement will be treated as building a tuple."
      ]
    },
    {
      "cell_type": "code",
      "metadata": {
        "id": "o8F4UWvGAomg"
      },
      "source": [
        "def glom_together(letter_count_list):\n",
        "  final_string = \"\"\n",
        "  final_count = 0\n",
        "  for pair in letter_count_list:\n",
        "    final_string += pair[0]\n",
        "    final_count += pair[1]\n",
        "  return final_string, final_count\n",
        "\n",
        "allwords, count = glom_together(letter_counts)\n",
        "print(allwords)\n",
        "print(count)"
      ],
      "execution_count": null,
      "outputs": []
    },
    {
      "cell_type": "markdown",
      "metadata": {
        "id": "IMGD9i99FBv-"
      },
      "source": [
        "# Numpy and other modules\n",
        "\n",
        "Possibly the biggest strength of Python is its deep, wide selection of modules (libraries).  There are a few that are really handy for AI/ML:  numpy for numerical computing, scipy for scientific functions, matplotlib for plotting in 2D and 3D, scikit-learn for assorted out-of-the-box machine learning algorithms, and some very good libraries for neural networks.\n",
        "\n",
        "Of these, the main one you should be aware of right away is numpy, which has a variety of functions for creating and manipulating vectors and matrices.  Modules often have conventional shorthand names to use throughout the program, but you still need to say \"import [module] as [shorthand]\" to use the shorthand name.  It's the difference between needing to say numpy.zeros() and np.zeros()."
      ]
    },
    {
      "cell_type": "code",
      "metadata": {
        "id": "tO0HQSGLGccg"
      },
      "source": [
        "np.zeros([3,4]) # don't expect to recognize this without import"
      ],
      "execution_count": null,
      "outputs": []
    },
    {
      "cell_type": "code",
      "metadata": {
        "id": "6oJX5Bf-GDuG"
      },
      "source": [
        "import numpy as np\n",
        "\n",
        "np.zeros([3,4])"
      ],
      "execution_count": null,
      "outputs": []
    },
    {
      "cell_type": "code",
      "metadata": {
        "id": "2KvTkp9GakIH"
      },
      "source": [
        "my_lol = [[1, 2, 3, 4], [5,6,7,8]]\n",
        "my_array = np.array(my_lol)\n",
        "print(my_array)\n"
      ],
      "execution_count": null,
      "outputs": []
    },
    {
      "cell_type": "markdown",
      "metadata": {
        "id": "LDsDKhNVGvMs"
      },
      "source": [
        "Though they look like list-of-lists, numpy arrays are preferred to simple lists or list-of-lists for efficiency when doing numerical things.  Their shape field, a pair, can be useful for finding the dimensions."
      ]
    },
    {
      "cell_type": "code",
      "metadata": {
        "id": "BD8YhvN1HHzD"
      },
      "source": [
        "a = np.zeros([3,4])\n",
        "print(a)\n",
        "height, width = a.shape\n",
        "print(height)\n",
        "print(width)"
      ],
      "execution_count": null,
      "outputs": []
    },
    {
      "cell_type": "markdown",
      "metadata": {
        "id": "dHZU427hTj72"
      },
      "source": [
        "Matrices can come up a fair amount in machine learning.  One shortcut is that matrix multiplication has a shorthand in numpy: @.  In numpy, vectors are just matrices that have one row."
      ]
    },
    {
      "cell_type": "code",
      "metadata": {
        "id": "RFWTTF1Nbg8y"
      },
      "source": [
        "A = np.array([[2, 2], [2, 2]])\n",
        "B = np.array([[2, 0], [0, 2]])\n",
        "print(A@B)\n",
        "v = np.array([5, 6])\n",
        "print(B@v) # auto-flip to get a legal mult"
      ],
      "execution_count": null,
      "outputs": []
    },
    {
      "cell_type": "markdown",
      "metadata": {
        "id": "eGo0K0G8HXou"
      },
      "source": [
        "Last, notice that numpy array indices can be comma-separated when accessing elements, instead of using multiple square brackets.  Both get used, but only the commas work with some more advanced features like slicing (see the end of this worksheet)."
      ]
    },
    {
      "cell_type": "code",
      "metadata": {
        "id": "HXKB_xhQHmOJ"
      },
      "source": [
        "A = np.array([[1,2],[3,4]])\n",
        "A[1,1]"
      ],
      "execution_count": null,
      "outputs": []
    },
    {
      "cell_type": "code",
      "metadata": {
        "id": "cCWkqOmBHRDo"
      },
      "source": [
        "A[1][1]"
      ],
      "execution_count": null,
      "outputs": []
    },
    {
      "cell_type": "markdown",
      "metadata": {
        "id": "ap76Qmz6VU-a"
      },
      "source": [
        "# More assorted control flow tips\n",
        "\n",
        "*While* loops run until their condition is false.  This is good for lots of search, where we don't know when we'll be done.  It's also good for lots of machine learning, where we want to run until our error is sufficiently low.\n",
        "\n",
        "If you want a quick instruction for jumping out of where you are in a loop, a *continue* jumps to the next iteration, and *break* quits the loop and moves on.  (If you're using these, ask yourself whether your function is too big and needs refactoring.)\n",
        "\n",
        "The syntax for if-else is a bit unusual in Python, thanks to \"elif,\" its shorthand for \"else if.\"\n",
        "\n",
        "There are no \"switch\" statements in Python, but you can use dictionaries to a similar effect."
      ]
    },
    {
      "cell_type": "code",
      "metadata": {
        "id": "2pntOdbUW_ga"
      },
      "source": [
        "a = 2\n",
        "while (a < 100):\n",
        "  if a == 50:\n",
        "    print(\"Fifty!\")\n",
        "    break\n",
        "  elif a % 2 == 0:\n",
        "    print(\"{}: even\".format(a))\n",
        "    a = a + 7\n",
        "  else:\n",
        "    print(\"{}: odd\".format(a))\n",
        "    a = a * 2\n",
        "print(a)\n",
        "print(\"Done!\")"
      ],
      "execution_count": null,
      "outputs": []
    },
    {
      "cell_type": "markdown",
      "metadata": {
        "id": "RfETEMbwYtwQ"
      },
      "source": [
        "# Exercise 2\n",
        "\n",
        "Try writing code that squares the matrix [[1, 2],[3,4]] until the upper-left [0,0] element is greater than 200.  (Recall that A @ A will work to square it, as long as A is a numpy array, np.array(your_list_of_lists)).  Hint:  The value in that corner that triggers the end will be 165751."
      ]
    },
    {
      "cell_type": "code",
      "metadata": {
        "id": "az4JB1g5GGk3"
      },
      "source": [
        "import numpy as np\n",
        "\n",
        "def first_big_matrix(A):\n",
        "  while A[0,0] <= 200:\n",
        "    A = A @ A\n",
        "    print(A)\n",
        "  return A\n",
        "\n",
        "myA = np.array([[1,2],[3,4]])\n",
        "print(first_big_matrix(myA))"
      ],
      "execution_count": null,
      "outputs": []
    },
    {
      "cell_type": "markdown",
      "metadata": {
        "id": "10tqE6DB9GUJ"
      },
      "source": [
        "# Advanced Interlude:  But why Python?\n",
        "\n",
        "When Lisp, the language Racket was based on, was the primary language for AI, its basic syntax was a very good fit for what AI was doing:  processing massive lists of states to check for A* searches.  (Its compilers are still very efficient for this; I think some of the Google Flights codebase is still in Lisp.)  Python's relationship to AI/ML is based much more on the availability of nice libraries, and the ability to build more nice libraries on top of those existing ones.  Here's an example of two, scikit-learn (sklearn) for ML and matplotlib for plotting.  You can see that you can do a lot with just a little code with the right libraries.\n",
        "\n",
        "You aren't expected to fully understand what's happening in the following code, but rather see how we can do a lot with few lines of code."
      ]
    },
    {
      "cell_type": "code",
      "metadata": {
        "id": "lnR-HfDd-bWd"
      },
      "source": [
        "# Digit recognition, based on example at\n",
        "# https://scikit-learn.org/stable/auto_examples/classification/plot_digits_classification.html\n",
        "\n",
        "from sklearn import datasets\n",
        "import matplotlib.pyplot as plt\n",
        "\n",
        "digits = datasets.load_digits()  # The MNIST handwritten digit database\n",
        "plt.imshow(digits.images[0], cmap=plt.cm.gray_r) # The first digit in the data, which just happens to be 0, in grayscale"
      ],
      "execution_count": null,
      "outputs": []
    },
    {
      "cell_type": "code",
      "metadata": {
        "id": "KczFwJ-V_fwP"
      },
      "source": [
        "# Neural networks are complex, but we can just ask sklearn for one.\n",
        "# Note that more complex networks need more complex libraries (e.g., Tensorflow)\n",
        "# with which to specify more fine-grained details about the architecture.\n",
        "from sklearn.neural_network import MLPClassifier  # MLP = \"multilayer perceptron\", so, nontrivial neural network\n",
        "\n",
        "my_nn = MLPClassifier(hidden_layer_sizes=(30,20,)) # Lots of optional arguments that we're skipping\n",
        "n_samples = len(digits.images)\n",
        "data = digits.images.reshape((n_samples, -1)) # Flatten the 3D images x width x height to the 2D images x pixels\n",
        "my_nn.fit(data, digits.target)  # Do the learning with features (images) \"data\" and labels (digit names) \"digits.target\"\n",
        "my_nn.predict([data[0,:]]) # The first row is the image above, in vector form.  Did the network learn it?"
      ],
      "execution_count": null,
      "outputs": []
    },
    {
      "cell_type": "code",
      "metadata": {
        "id": "1O3GgsgsC1my"
      },
      "source": [
        "# What about a new digit image?  \"Drawing\" a 7\n",
        "my_one = np.array([[1,1,1,1,1,1,1,0],\n",
        "                   [1,1,1,1,1,1,0,0],\n",
        "                   [0,0,0,1,1,0,0,0],\n",
        "                   [0,0,1,1,0,0,0,0],\n",
        "                   [0,1,1,0,0,0,0,0],\n",
        "                   [1,1,0,0,0,0,0,0],\n",
        "                   [1,0,0,0,0,0,0,0],\n",
        "                   [1,0,0,0,0,0,0,0]\n",
        "              ])\n",
        "flattened = np.transpose(my_one.reshape((64,-1)))\n",
        "my_nn.predict(flattened)"
      ],
      "execution_count": null,
      "outputs": []
    },
    {
      "cell_type": "markdown",
      "metadata": {
        "id": "bJcLpIZPEqUg"
      },
      "source": [
        "If that all seems like a lot to learn, don't worry - even professional Python programmers spend a lot of time looking at documentation.  They definitely don't memorize every function signature, though they might begin to remember the ones they use a lot."
      ]
    },
    {
      "cell_type": "markdown",
      "metadata": {
        "id": "BnAQPSar9TET"
      },
      "source": [
        "# Object-oriented Python\n",
        "\n",
        "AI and ML often deal with state information that can contain multiple variables, like where the robot is in Vacuum World or the strengths of connections between neurons in a neural network.  So it makes sense that we'll often encounter objects - variables that hang together and describe the same entity, combined with functions designed to work with them called methods.\n",
        "\n",
        "Unlike Java, you don't really need to declare field names ahead of time.  The object is called \"self,\" and referring to a field like \"self.position\" will cause it to exist.\n",
        "\n",
        "The constructor, which creates a new object, is always called __init__, and the function that gets called when printing the object is called __str__.  The first argument to every method is \"self.\"\n"
      ]
    },
    {
      "cell_type": "code",
      "metadata": {
        "id": "A5LpzhKk-LAT"
      },
      "source": [
        "import numpy as np\n",
        "\n",
        "class VacuumWorld(object):\n",
        "    \"\"\" Represent a grid containing dirt or not in each square, plus a single robot.\n",
        "\n",
        "    Attributes:\n",
        "        tile_dirt (numpy array): 2D array of ints representing world. 1 for dirt, 0 for no dirt.\n",
        "        robot_col, robot_row (int): describe robot location\n",
        "        width, height (int):  map size, for convenience\n",
        "    \"\"\"\n",
        "\n",
        "    def __init__(self, width, height, dirt_coords):\n",
        "        \"\"\" Arguments:\n",
        "          width (int): width of vacuum world\n",
        "          height (int): height of vacuum world\n",
        "          dirt_coords (list of int pairs):  dirt locations\n",
        "          (assume robot always starts in upper-left corner)\n",
        "        \"\"\"\n",
        "        self.width = width\n",
        "        self.height = height\n",
        "        self.tiles = np.zeros((height, width))\n",
        "        self.robot_col = 0\n",
        "        self.robot_row = 0\n",
        "        for dirtpair in dirt_coords:\n",
        "          self.tiles[dirtpair[0],dirtpair[1]] = 1\n",
        "\n",
        "    def __str__(self):\n",
        "        \"\"\"String is grid with * for dirt, _ for no dirt, R for robot\"\"\"\n",
        "        out = \"\"\n",
        "        for i in range(self.height):\n",
        "            for j in range(self.width):\n",
        "              if self.robot_row == i and self.robot_col == j:\n",
        "                out += \"R\"\n",
        "              elif (self.tiles[i][j]):\n",
        "                out += \"*\"\n",
        "              else:\n",
        "                out += \"_\"\n",
        "            out += \"\\n\"\n",
        "        return out\n",
        "    \n",
        "    # Done if all dirt vacuumed.  \"sum\" is the kind of handy function that\n",
        "    # you don't remember the name and syntax of, but you're pretty sure exists\n",
        "    def done(self):\n",
        "      return np.sum(self.tiles) == 0\n",
        "\n",
        "my_world = VacuumWorld(3, 4, [(1,1), (2,2)])\n",
        "print(my_world)\n",
        "print(my_world.done())"
      ],
      "execution_count": null,
      "outputs": []
    },
    {
      "cell_type": "markdown",
      "metadata": {
        "id": "l03R2xp2H4rM"
      },
      "source": [
        "# Exercise 3\n",
        "\n",
        "Try defining your own object with a single piece of state that is set by the constructor and printed by __str__.  If you're looking for inspiration, consider modeling a pet, friend, or nemesis with their mood.  If there's time, define one additional method.  Check that your definition works."
      ]
    },
    {
      "cell_type": "code",
      "metadata": {
        "id": "y3KbUMAxIGNg"
      },
      "source": [
        "# TODO"
      ],
      "execution_count": null,
      "outputs": []
    },
    {
      "cell_type": "markdown",
      "metadata": {
        "id": "purwkc4VJpvE"
      },
      "source": [
        "# Gotchas:  Indentation, Notebook evaluation, Object copying\n",
        "\n",
        "One fairly common source of bugs in Python is issues with indentation.  The most horrible version of this is that a tab isn't considered the same amount of whitespace as the number of spaces necessary to cover it.  So \"    \" (4 spaces) is not treated the same as \"    \" (tab that happens to be 4 spaces long).  Oof.  Luckily, colab keeps you from shooting yourself in the foot by automatically converting your spaces to tabs, as any reasonable Python editor should.\n",
        "\n",
        "But the problem remains that as your code gets big, it's harder to eyeball indentation levels to check whether they're the same.  Many a student has come to me with a \"return\" inside a loop instead of outside it, leading to exactly one iteration and then quitting.  The main solution is to be very conscious of this as you code, and don't assume the editor is autoindenting to the right place.  Better function breakdown often helps - if you have to scroll up to see your last deindent, maybe you could write a function for this stuff inside the loop and make the code more readable, too.\n",
        "\n",
        "A common source of bugs within Jupyter Notebook is to evaluate the cells in an unexpected order.  It doesn't run everything in order up to your current point unless you tell it to, and that's a good idea if things have gotten strange:  Runtime->Run all up top.\n",
        "\n",
        "We often need to copy objects in the early part of this course, in order to do search (and also in MCTS if you go that way for a project).  Simple assignment won't cut it; that just copies the reference.  This is true for lists and dictionaries, too."
      ]
    },
    {
      "cell_type": "code",
      "metadata": {
        "id": "PqJxu7_uMAkE"
      },
      "source": [
        "a = VacuumWorld(3,4,[])\n",
        "b = a\n",
        "a.tiles[0,1] = 1  # will change both a and b\n",
        "print(a)\n",
        "print(b)"
      ],
      "execution_count": null,
      "outputs": []
    },
    {
      "cell_type": "code",
      "metadata": {
        "id": "b2_qHZLlMY47"
      },
      "source": [
        "a = [1, 2]\n",
        "b = a\n",
        "a.append(3)\n",
        "print(a)\n",
        "print(b)"
      ],
      "execution_count": null,
      "outputs": []
    },
    {
      "cell_type": "markdown",
      "metadata": {
        "id": "F9zh7wRTMfud"
      },
      "source": [
        "There are a variety of methods floating around for actually copying things successfully; consult the documentation webpages or Google \"python copy [data structure]\".  For a class, we may want to explicitly create a copy() method that calls the constructor with the right arguments, and modifies the result if necessary.  Of course, we could also just call the constructor ourselves."
      ]
    },
    {
      "cell_type": "code",
      "metadata": {
        "id": "ETYJ246cKjtJ"
      },
      "source": [
        "a = VacuumWorld(3,4,[])\n",
        "b = VacuumWorld(a.height,a.width,[])  # This will clearly work!\n",
        "a.tiles[0,1] = 1\n",
        "print(a)\n",
        "print(b)"
      ],
      "execution_count": null,
      "outputs": []
    },
    {
      "cell_type": "code",
      "metadata": {
        "id": "pWdl2at1NuCk"
      },
      "source": [
        "a = [1, 2]\n",
        "b = a.copy()\n",
        "a.append(3)\n",
        "print(a)\n",
        "print(b)"
      ],
      "execution_count": null,
      "outputs": []
    },
    {
      "cell_type": "markdown",
      "metadata": {
        "id": "w7Qew96rPBqN"
      },
      "source": [
        "# Some random Python slickness\n",
        "\n",
        "There are some idioms in Python that you probably won't feel comfortable writing yourself if you're just coming from Java, but Python lovers like these kinds of shortcuts.  None of these is strictly necessary if you want to just write in \"translated Java\" but it's good to recognize what it's doing when you see it.\n",
        "\n",
        "## List comprehensions\n",
        "\n",
        "The classic Python slickness, this lets you define a list easily as a function of another list.  Avoids the awkwardness of iterating and appending."
      ]
    },
    {
      "cell_type": "code",
      "metadata": {
        "id": "LbmS2fxrPrBx"
      },
      "source": [
        "squares = [a ** 2 for a in range(10)] # ** is exponentiation\n",
        "print(squares)"
      ],
      "execution_count": null,
      "outputs": []
    },
    {
      "cell_type": "markdown",
      "metadata": {
        "id": "RzvXEjXS7gOD"
      },
      "source": [
        "## Slicing\n",
        "\n",
        "The colon operator can be used to grab substrings, sublists, and subarrays from these data structures.  Index at [FirstElementIn:FirstElementNotIn].  Leaving one of these off goes all the way in that direction; putting just the colon down means \"everything.\"  -1 goes not quite to the end, but one element back."
      ]
    },
    {
      "cell_type": "code",
      "metadata": {
        "id": "_2PPa6aY8CDT"
      },
      "source": [
        "mynums = [1,2,3,4]\n",
        "print(mynums[1:3])"
      ],
      "execution_count": null,
      "outputs": []
    },
    {
      "cell_type": "code",
      "metadata": {
        "id": "hroKgnkB8Nm5"
      },
      "source": [
        "import numpy as np\n",
        "\n",
        "myarray = np.array([[1,2,3],[4,5,6],[7,8,9]])\n",
        "print(myarray[:, 1:]) # \"all rows, columns from 1\""
      ],
      "execution_count": null,
      "outputs": []
    },
    {
      "cell_type": "code",
      "metadata": {
        "id": "ZXpO3lFc8vwS"
      },
      "source": [
        "s = \"foobar\"\n",
        "print(s[0:3])\n",
        "print(s[0:-1])"
      ],
      "execution_count": null,
      "outputs": []
    },
    {
      "cell_type": "markdown",
      "metadata": {
        "id": "HLKFy8exP7fn"
      },
      "source": [
        "## Numpy operations affecting the whole vector/matrix\n",
        "\n",
        "When there's a size mismatch, numpy will often try to generously interpret the operation as applying to each item in the other matrix or vector, a behavior called \"broadcasting.\"  This can be very confusing if you don't know it's possible."
      ]
    },
    {
      "cell_type": "code",
      "metadata": {
        "id": "hLnYwpIyQFuW"
      },
      "source": [
        "v = np.array([1, 2, 3, 4])\n",
        "print(v+1)"
      ],
      "execution_count": null,
      "outputs": []
    },
    {
      "cell_type": "code",
      "metadata": {
        "id": "oY-PwwhPQoTo"
      },
      "source": [
        "v < 5"
      ],
      "execution_count": null,
      "outputs": []
    },
    {
      "cell_type": "markdown",
      "metadata": {
        "id": "yBDxmEpfQuGq"
      },
      "source": [
        "This doesn't work with basic lists."
      ]
    },
    {
      "cell_type": "code",
      "metadata": {
        "id": "_mcMzCUjQwC8"
      },
      "source": [
        "L = [1,2,3]\n",
        "L+3"
      ],
      "execution_count": null,
      "outputs": []
    },
    {
      "cell_type": "markdown",
      "metadata": {
        "id": "-UWc3AV4QlD-"
      },
      "source": [
        "## Ternary operator\n",
        "\n",
        "For quick if-elses determining what value is returned, there's a shorthand that works all on one line.  Note that normally, there would be colons in there."
      ]
    },
    {
      "cell_type": "code",
      "metadata": {
        "id": "Dx5XLsMZRJuh"
      },
      "source": [
        "b = 2\n",
        "a = 1 if b == 2 else 3\n",
        "print(a)"
      ],
      "execution_count": null,
      "outputs": []
    },
    {
      "cell_type": "markdown",
      "metadata": {
        "id": "j5Kuv0mVU4NI"
      },
      "source": [
        "## Iterating over tuples"
      ]
    },
    {
      "cell_type": "code",
      "metadata": {
        "id": "1crz-OdaU8g5"
      },
      "source": [
        "for word, count in letter_counts:\n",
        "  print(\"{} is {} letters long\".format(word, count))"
      ],
      "execution_count": null,
      "outputs": []
    },
    {
      "cell_type": "markdown",
      "metadata": {
        "id": "Mxu9vU8kQJsA"
      },
      "source": [
        "# Final remarks\n",
        "\n",
        "As usual, a lot of learning a new language is practice and seeing what experts do. When you get stuck with a \"how do I...\" question, consult the more extensive tutorial at:\n",
        "\n",
        "https://docs.python.org/3/tutorial/\n",
        "\n",
        "Modules like numpy, matplotlib, and scikit-learn have their own documentation that you can find by Googling.\n",
        "\n",
        "Python is sometimes quirky, but has a lot of neat shortcuts, and more importantly, has some of the best libraries for AI and ML at present.  There's nothing about it that means it will be the best language for AI/ML for all time; but it's the clear choice in the present.  Happy coding!"
      ]
    }
  ]
}